{
  "cells": [
    {
      "cell_type": "markdown",
      "metadata": {
        "id": "DfuUsB7n9Gat"
      },
      "source": [
        "## Librerias"
      ]
    },
    {
      "cell_type": "code",
      "execution_count": 1,
      "metadata": {
        "id": "LgWTXpXj9Gax"
      },
      "outputs": [],
      "source": [
        "try:\n",
        "    import pandas as pd\n",
        "except ImportError:\n",
        "    print(\"Pandas not installed\")\n",
        "    %pip install pandas --user\n",
        "\n",
        "try:\n",
        "    import matplotlib.pyplot as plt\n",
        "except ImportError:\n",
        "    print(\"Matplotlib not installed\")\n",
        "    %pip install matplotlib --user\n",
        "\n",
        "import ssl\n",
        "\n",
        "ssl._create_default_https_context = ssl._create_unverified_context"
      ]
    },
    {
      "cell_type": "code",
      "execution_count": 2,
      "metadata": {
        "id": "giNk3UqD9Gaz"
      },
      "outputs": [],
      "source": [
        "import pandas as pd\n",
        "import matplotlib.pyplot as plt"
      ]
    },
    {
      "cell_type": "markdown",
      "metadata": {
        "id": "WLxe98BS9Ga0"
      },
      "source": [
        "## Lectura de datos\n",
        "\n",
        "- [Dataset Qatar 2022: https://www.kaggle.com/datasets/shrikrishnaparab/fifa-world-cup-2022-qatar-match-data](https://www.kaggle.com/datasets/shrikrishnaparab/fifa-world-cup-2022-qatar-match-data)"
      ]
    },
    {
      "cell_type": "code",
      "execution_count": 3,
      "metadata": {
        "id": "iVTK-SZE9Ga1",
        "outputId": "734e091c-7821-463b-e1d0-837e4d3c608c",
        "colab": {
          "base_uri": "https://localhost:8080/",
          "height": 791
        }
      },
      "outputs": [
        {
          "output_type": "execute_result",
          "data": {
            "text/plain": [
              "    match_no day_of_week       date   hour                          venue  \\\n",
              "0          1         Sun  20-Nov-22  17:00                Al Bayt Stadium   \n",
              "1          2         Mon  21-Nov-22  14:00  Khalifa International Stadium   \n",
              "2          3         Mon  21-Nov-22  17:00             Al Thumama Stadium   \n",
              "3          4         Mon  21-Nov-22  20:00          Ahmed bin Ali Stadium   \n",
              "4          5         Tue  22-Nov-22  11:00          Lusail Iconic Stadium   \n",
              "..       ...         ...        ...    ...                            ...   \n",
              "59        60         Sat  10-Dec-22  20:00                Al Bayt Stadium   \n",
              "60        61         Tue  13-Dec-22  20:00          Lusail Iconic Stadium   \n",
              "61        62         Wed  14-Dec-22  20:00                Al Bayt Stadium   \n",
              "62        63         Sat  17-Dec-22  16:00  Khalifa International Stadium   \n",
              "63        64         Sun  18-Dec-22  16:00          Lusail Iconic Stadium   \n",
              "\n",
              "                          referee                     group              1  \\\n",
              "0                  Daniele Orsato                   Group A          QATAR   \n",
              "1                   Raphael Claus                   Group B        ENGLAND   \n",
              "2                  Wilton Sampaio                   Group A        SENEGAL   \n",
              "3   Abdulrahman Ibrahim Al Jassim                   Group B  UNITED STATES   \n",
              "4                   Slavko Vincic                   Group C      ARGENTINA   \n",
              "..                            ...                       ...            ...   \n",
              "59                 Wilton Sampaio             Quarter-final        ENGLAND   \n",
              "60                 Daniele Orsato                Semi-Final      ARGENTINA   \n",
              "61                    Cesar Ramos                Semi-Final         FRANCE   \n",
              "62  Abdulrahman Ibrahim Al Jassim  Play-off for third place        CROATIA   \n",
              "63               Szymon Marciniak                     Final      ARGENTINA   \n",
              "\n",
              "               2  attendance  ...  1_panelties_scored  2_panelties_scored  \\\n",
              "0        ECUADOR       67372  ...                   0                   1   \n",
              "1           IRAN       45334  ...                   0                   1   \n",
              "2    NETHERLANDS       41721  ...                   0                   0   \n",
              "3          WALES       43418  ...                   0                   1   \n",
              "4   SAUDI ARABIA       88012  ...                   1                   0   \n",
              "..           ...         ...  ...                 ...                 ...   \n",
              "59        FRANCE       68895  ...                   1                   0   \n",
              "60       CROATIA       88966  ...                   1                   0   \n",
              "61       MOROCCO       68294  ...                   0                   0   \n",
              "62       MOROCCO       44137  ...                   0                   0   \n",
              "63        FRANCE       88966  ...                   1                   2   \n",
              "\n",
              "    1_goal_prevented  2_goal_prevented  1_own_goal  2_own_goal  \\\n",
              "0                  6                 5           0           0   \n",
              "1                  8                13           0           0   \n",
              "2                  9                15           0           0   \n",
              "3                  7                 7           0           0   \n",
              "4                  4                14           0           0   \n",
              "..               ...               ...         ...         ...   \n",
              "59                 9                15           0           0   \n",
              "60                12                10           0           0   \n",
              "61                13                14           0           0   \n",
              "62                 7                14           0           0   \n",
              "63                11                21           0           0   \n",
              "\n",
              "   1_forced_turnovers  2_forced_turnovers  1_defensive_pressure_applied  \\\n",
              "0                  52                  72                           256   \n",
              "1                  63                  72                           139   \n",
              "2                  63                  73                           263   \n",
              "3                  81                  72                           242   \n",
              "4                  65                  80                           163   \n",
              "..                ...                 ...                           ...   \n",
              "59                 49                  54                           193   \n",
              "60                 85                  63                           321   \n",
              "61                 72                  47                           328   \n",
              "62                 75                  72                           288   \n",
              "63                 87                 104                           280   \n",
              "\n",
              "    2_defensive_pressure_applied  \n",
              "0                            279  \n",
              "1                            416  \n",
              "2                            251  \n",
              "3                            292  \n",
              "4                            361  \n",
              "..                           ...  \n",
              "59                           308  \n",
              "60                           260  \n",
              "61                           218  \n",
              "62                           277  \n",
              "63                           409  \n",
              "\n",
              "[64 rows x 59 columns]"
            ],
            "text/html": [
              "\n",
              "  <div id=\"df-8736346d-aed1-4a76-8168-69f51fbd7179\" class=\"colab-df-container\">\n",
              "    <div>\n",
              "<style scoped>\n",
              "    .dataframe tbody tr th:only-of-type {\n",
              "        vertical-align: middle;\n",
              "    }\n",
              "\n",
              "    .dataframe tbody tr th {\n",
              "        vertical-align: top;\n",
              "    }\n",
              "\n",
              "    .dataframe thead th {\n",
              "        text-align: right;\n",
              "    }\n",
              "</style>\n",
              "<table border=\"1\" class=\"dataframe\">\n",
              "  <thead>\n",
              "    <tr style=\"text-align: right;\">\n",
              "      <th></th>\n",
              "      <th>match_no</th>\n",
              "      <th>day_of_week</th>\n",
              "      <th>date</th>\n",
              "      <th>hour</th>\n",
              "      <th>venue</th>\n",
              "      <th>referee</th>\n",
              "      <th>group</th>\n",
              "      <th>1</th>\n",
              "      <th>2</th>\n",
              "      <th>attendance</th>\n",
              "      <th>...</th>\n",
              "      <th>1_panelties_scored</th>\n",
              "      <th>2_panelties_scored</th>\n",
              "      <th>1_goal_prevented</th>\n",
              "      <th>2_goal_prevented</th>\n",
              "      <th>1_own_goal</th>\n",
              "      <th>2_own_goal</th>\n",
              "      <th>1_forced_turnovers</th>\n",
              "      <th>2_forced_turnovers</th>\n",
              "      <th>1_defensive_pressure_applied</th>\n",
              "      <th>2_defensive_pressure_applied</th>\n",
              "    </tr>\n",
              "  </thead>\n",
              "  <tbody>\n",
              "    <tr>\n",
              "      <th>0</th>\n",
              "      <td>1</td>\n",
              "      <td>Sun</td>\n",
              "      <td>20-Nov-22</td>\n",
              "      <td>17:00</td>\n",
              "      <td>Al Bayt Stadium</td>\n",
              "      <td>Daniele Orsato</td>\n",
              "      <td>Group A</td>\n",
              "      <td>QATAR</td>\n",
              "      <td>ECUADOR</td>\n",
              "      <td>67372</td>\n",
              "      <td>...</td>\n",
              "      <td>0</td>\n",
              "      <td>1</td>\n",
              "      <td>6</td>\n",
              "      <td>5</td>\n",
              "      <td>0</td>\n",
              "      <td>0</td>\n",
              "      <td>52</td>\n",
              "      <td>72</td>\n",
              "      <td>256</td>\n",
              "      <td>279</td>\n",
              "    </tr>\n",
              "    <tr>\n",
              "      <th>1</th>\n",
              "      <td>2</td>\n",
              "      <td>Mon</td>\n",
              "      <td>21-Nov-22</td>\n",
              "      <td>14:00</td>\n",
              "      <td>Khalifa International Stadium</td>\n",
              "      <td>Raphael Claus</td>\n",
              "      <td>Group B</td>\n",
              "      <td>ENGLAND</td>\n",
              "      <td>IRAN</td>\n",
              "      <td>45334</td>\n",
              "      <td>...</td>\n",
              "      <td>0</td>\n",
              "      <td>1</td>\n",
              "      <td>8</td>\n",
              "      <td>13</td>\n",
              "      <td>0</td>\n",
              "      <td>0</td>\n",
              "      <td>63</td>\n",
              "      <td>72</td>\n",
              "      <td>139</td>\n",
              "      <td>416</td>\n",
              "    </tr>\n",
              "    <tr>\n",
              "      <th>2</th>\n",
              "      <td>3</td>\n",
              "      <td>Mon</td>\n",
              "      <td>21-Nov-22</td>\n",
              "      <td>17:00</td>\n",
              "      <td>Al Thumama Stadium</td>\n",
              "      <td>Wilton Sampaio</td>\n",
              "      <td>Group A</td>\n",
              "      <td>SENEGAL</td>\n",
              "      <td>NETHERLANDS</td>\n",
              "      <td>41721</td>\n",
              "      <td>...</td>\n",
              "      <td>0</td>\n",
              "      <td>0</td>\n",
              "      <td>9</td>\n",
              "      <td>15</td>\n",
              "      <td>0</td>\n",
              "      <td>0</td>\n",
              "      <td>63</td>\n",
              "      <td>73</td>\n",
              "      <td>263</td>\n",
              "      <td>251</td>\n",
              "    </tr>\n",
              "    <tr>\n",
              "      <th>3</th>\n",
              "      <td>4</td>\n",
              "      <td>Mon</td>\n",
              "      <td>21-Nov-22</td>\n",
              "      <td>20:00</td>\n",
              "      <td>Ahmed bin Ali Stadium</td>\n",
              "      <td>Abdulrahman Ibrahim Al Jassim</td>\n",
              "      <td>Group B</td>\n",
              "      <td>UNITED STATES</td>\n",
              "      <td>WALES</td>\n",
              "      <td>43418</td>\n",
              "      <td>...</td>\n",
              "      <td>0</td>\n",
              "      <td>1</td>\n",
              "      <td>7</td>\n",
              "      <td>7</td>\n",
              "      <td>0</td>\n",
              "      <td>0</td>\n",
              "      <td>81</td>\n",
              "      <td>72</td>\n",
              "      <td>242</td>\n",
              "      <td>292</td>\n",
              "    </tr>\n",
              "    <tr>\n",
              "      <th>4</th>\n",
              "      <td>5</td>\n",
              "      <td>Tue</td>\n",
              "      <td>22-Nov-22</td>\n",
              "      <td>11:00</td>\n",
              "      <td>Lusail Iconic Stadium</td>\n",
              "      <td>Slavko Vincic</td>\n",
              "      <td>Group C</td>\n",
              "      <td>ARGENTINA</td>\n",
              "      <td>SAUDI ARABIA</td>\n",
              "      <td>88012</td>\n",
              "      <td>...</td>\n",
              "      <td>1</td>\n",
              "      <td>0</td>\n",
              "      <td>4</td>\n",
              "      <td>14</td>\n",
              "      <td>0</td>\n",
              "      <td>0</td>\n",
              "      <td>65</td>\n",
              "      <td>80</td>\n",
              "      <td>163</td>\n",
              "      <td>361</td>\n",
              "    </tr>\n",
              "    <tr>\n",
              "      <th>...</th>\n",
              "      <td>...</td>\n",
              "      <td>...</td>\n",
              "      <td>...</td>\n",
              "      <td>...</td>\n",
              "      <td>...</td>\n",
              "      <td>...</td>\n",
              "      <td>...</td>\n",
              "      <td>...</td>\n",
              "      <td>...</td>\n",
              "      <td>...</td>\n",
              "      <td>...</td>\n",
              "      <td>...</td>\n",
              "      <td>...</td>\n",
              "      <td>...</td>\n",
              "      <td>...</td>\n",
              "      <td>...</td>\n",
              "      <td>...</td>\n",
              "      <td>...</td>\n",
              "      <td>...</td>\n",
              "      <td>...</td>\n",
              "      <td>...</td>\n",
              "    </tr>\n",
              "    <tr>\n",
              "      <th>59</th>\n",
              "      <td>60</td>\n",
              "      <td>Sat</td>\n",
              "      <td>10-Dec-22</td>\n",
              "      <td>20:00</td>\n",
              "      <td>Al Bayt Stadium</td>\n",
              "      <td>Wilton Sampaio</td>\n",
              "      <td>Quarter-final</td>\n",
              "      <td>ENGLAND</td>\n",
              "      <td>FRANCE</td>\n",
              "      <td>68895</td>\n",
              "      <td>...</td>\n",
              "      <td>1</td>\n",
              "      <td>0</td>\n",
              "      <td>9</td>\n",
              "      <td>15</td>\n",
              "      <td>0</td>\n",
              "      <td>0</td>\n",
              "      <td>49</td>\n",
              "      <td>54</td>\n",
              "      <td>193</td>\n",
              "      <td>308</td>\n",
              "    </tr>\n",
              "    <tr>\n",
              "      <th>60</th>\n",
              "      <td>61</td>\n",
              "      <td>Tue</td>\n",
              "      <td>13-Dec-22</td>\n",
              "      <td>20:00</td>\n",
              "      <td>Lusail Iconic Stadium</td>\n",
              "      <td>Daniele Orsato</td>\n",
              "      <td>Semi-Final</td>\n",
              "      <td>ARGENTINA</td>\n",
              "      <td>CROATIA</td>\n",
              "      <td>88966</td>\n",
              "      <td>...</td>\n",
              "      <td>1</td>\n",
              "      <td>0</td>\n",
              "      <td>12</td>\n",
              "      <td>10</td>\n",
              "      <td>0</td>\n",
              "      <td>0</td>\n",
              "      <td>85</td>\n",
              "      <td>63</td>\n",
              "      <td>321</td>\n",
              "      <td>260</td>\n",
              "    </tr>\n",
              "    <tr>\n",
              "      <th>61</th>\n",
              "      <td>62</td>\n",
              "      <td>Wed</td>\n",
              "      <td>14-Dec-22</td>\n",
              "      <td>20:00</td>\n",
              "      <td>Al Bayt Stadium</td>\n",
              "      <td>Cesar Ramos</td>\n",
              "      <td>Semi-Final</td>\n",
              "      <td>FRANCE</td>\n",
              "      <td>MOROCCO</td>\n",
              "      <td>68294</td>\n",
              "      <td>...</td>\n",
              "      <td>0</td>\n",
              "      <td>0</td>\n",
              "      <td>13</td>\n",
              "      <td>14</td>\n",
              "      <td>0</td>\n",
              "      <td>0</td>\n",
              "      <td>72</td>\n",
              "      <td>47</td>\n",
              "      <td>328</td>\n",
              "      <td>218</td>\n",
              "    </tr>\n",
              "    <tr>\n",
              "      <th>62</th>\n",
              "      <td>63</td>\n",
              "      <td>Sat</td>\n",
              "      <td>17-Dec-22</td>\n",
              "      <td>16:00</td>\n",
              "      <td>Khalifa International Stadium</td>\n",
              "      <td>Abdulrahman Ibrahim Al Jassim</td>\n",
              "      <td>Play-off for third place</td>\n",
              "      <td>CROATIA</td>\n",
              "      <td>MOROCCO</td>\n",
              "      <td>44137</td>\n",
              "      <td>...</td>\n",
              "      <td>0</td>\n",
              "      <td>0</td>\n",
              "      <td>7</td>\n",
              "      <td>14</td>\n",
              "      <td>0</td>\n",
              "      <td>0</td>\n",
              "      <td>75</td>\n",
              "      <td>72</td>\n",
              "      <td>288</td>\n",
              "      <td>277</td>\n",
              "    </tr>\n",
              "    <tr>\n",
              "      <th>63</th>\n",
              "      <td>64</td>\n",
              "      <td>Sun</td>\n",
              "      <td>18-Dec-22</td>\n",
              "      <td>16:00</td>\n",
              "      <td>Lusail Iconic Stadium</td>\n",
              "      <td>Szymon Marciniak</td>\n",
              "      <td>Final</td>\n",
              "      <td>ARGENTINA</td>\n",
              "      <td>FRANCE</td>\n",
              "      <td>88966</td>\n",
              "      <td>...</td>\n",
              "      <td>1</td>\n",
              "      <td>2</td>\n",
              "      <td>11</td>\n",
              "      <td>21</td>\n",
              "      <td>0</td>\n",
              "      <td>0</td>\n",
              "      <td>87</td>\n",
              "      <td>104</td>\n",
              "      <td>280</td>\n",
              "      <td>409</td>\n",
              "    </tr>\n",
              "  </tbody>\n",
              "</table>\n",
              "<p>64 rows × 59 columns</p>\n",
              "</div>\n",
              "    <div class=\"colab-df-buttons\">\n",
              "\n",
              "  <div class=\"colab-df-container\">\n",
              "    <button class=\"colab-df-convert\" onclick=\"convertToInteractive('df-8736346d-aed1-4a76-8168-69f51fbd7179')\"\n",
              "            title=\"Convert this dataframe to an interactive table.\"\n",
              "            style=\"display:none;\">\n",
              "\n",
              "  <svg xmlns=\"http://www.w3.org/2000/svg\" height=\"24px\" viewBox=\"0 -960 960 960\">\n",
              "    <path d=\"M120-120v-720h720v720H120Zm60-500h600v-160H180v160Zm220 220h160v-160H400v160Zm0 220h160v-160H400v160ZM180-400h160v-160H180v160Zm440 0h160v-160H620v160ZM180-180h160v-160H180v160Zm440 0h160v-160H620v160Z\"/>\n",
              "  </svg>\n",
              "    </button>\n",
              "\n",
              "  <style>\n",
              "    .colab-df-container {\n",
              "      display:flex;\n",
              "      gap: 12px;\n",
              "    }\n",
              "\n",
              "    .colab-df-convert {\n",
              "      background-color: #E8F0FE;\n",
              "      border: none;\n",
              "      border-radius: 50%;\n",
              "      cursor: pointer;\n",
              "      display: none;\n",
              "      fill: #1967D2;\n",
              "      height: 32px;\n",
              "      padding: 0 0 0 0;\n",
              "      width: 32px;\n",
              "    }\n",
              "\n",
              "    .colab-df-convert:hover {\n",
              "      background-color: #E2EBFA;\n",
              "      box-shadow: 0px 1px 2px rgba(60, 64, 67, 0.3), 0px 1px 3px 1px rgba(60, 64, 67, 0.15);\n",
              "      fill: #174EA6;\n",
              "    }\n",
              "\n",
              "    .colab-df-buttons div {\n",
              "      margin-bottom: 4px;\n",
              "    }\n",
              "\n",
              "    [theme=dark] .colab-df-convert {\n",
              "      background-color: #3B4455;\n",
              "      fill: #D2E3FC;\n",
              "    }\n",
              "\n",
              "    [theme=dark] .colab-df-convert:hover {\n",
              "      background-color: #434B5C;\n",
              "      box-shadow: 0px 1px 3px 1px rgba(0, 0, 0, 0.15);\n",
              "      filter: drop-shadow(0px 1px 2px rgba(0, 0, 0, 0.3));\n",
              "      fill: #FFFFFF;\n",
              "    }\n",
              "  </style>\n",
              "\n",
              "    <script>\n",
              "      const buttonEl =\n",
              "        document.querySelector('#df-8736346d-aed1-4a76-8168-69f51fbd7179 button.colab-df-convert');\n",
              "      buttonEl.style.display =\n",
              "        google.colab.kernel.accessAllowed ? 'block' : 'none';\n",
              "\n",
              "      async function convertToInteractive(key) {\n",
              "        const element = document.querySelector('#df-8736346d-aed1-4a76-8168-69f51fbd7179');\n",
              "        const dataTable =\n",
              "          await google.colab.kernel.invokeFunction('convertToInteractive',\n",
              "                                                    [key], {});\n",
              "        if (!dataTable) return;\n",
              "\n",
              "        const docLinkHtml = 'Like what you see? Visit the ' +\n",
              "          '<a target=\"_blank\" href=https://colab.research.google.com/notebooks/data_table.ipynb>data table notebook</a>'\n",
              "          + ' to learn more about interactive tables.';\n",
              "        element.innerHTML = '';\n",
              "        dataTable['output_type'] = 'display_data';\n",
              "        await google.colab.output.renderOutput(dataTable, element);\n",
              "        const docLink = document.createElement('div');\n",
              "        docLink.innerHTML = docLinkHtml;\n",
              "        element.appendChild(docLink);\n",
              "      }\n",
              "    </script>\n",
              "  </div>\n",
              "\n",
              "\n",
              "    <div id=\"df-927507e5-a8c3-44ad-ae9f-1c69c56b72da\">\n",
              "      <button class=\"colab-df-quickchart\" onclick=\"quickchart('df-927507e5-a8c3-44ad-ae9f-1c69c56b72da')\"\n",
              "                title=\"Suggest charts\"\n",
              "                style=\"display:none;\">\n",
              "\n",
              "<svg xmlns=\"http://www.w3.org/2000/svg\" height=\"24px\"viewBox=\"0 0 24 24\"\n",
              "     width=\"24px\">\n",
              "    <g>\n",
              "        <path d=\"M19 3H5c-1.1 0-2 .9-2 2v14c0 1.1.9 2 2 2h14c1.1 0 2-.9 2-2V5c0-1.1-.9-2-2-2zM9 17H7v-7h2v7zm4 0h-2V7h2v10zm4 0h-2v-4h2v4z\"/>\n",
              "    </g>\n",
              "</svg>\n",
              "      </button>\n",
              "\n",
              "<style>\n",
              "  .colab-df-quickchart {\n",
              "      --bg-color: #E8F0FE;\n",
              "      --fill-color: #1967D2;\n",
              "      --hover-bg-color: #E2EBFA;\n",
              "      --hover-fill-color: #174EA6;\n",
              "      --disabled-fill-color: #AAA;\n",
              "      --disabled-bg-color: #DDD;\n",
              "  }\n",
              "\n",
              "  [theme=dark] .colab-df-quickchart {\n",
              "      --bg-color: #3B4455;\n",
              "      --fill-color: #D2E3FC;\n",
              "      --hover-bg-color: #434B5C;\n",
              "      --hover-fill-color: #FFFFFF;\n",
              "      --disabled-bg-color: #3B4455;\n",
              "      --disabled-fill-color: #666;\n",
              "  }\n",
              "\n",
              "  .colab-df-quickchart {\n",
              "    background-color: var(--bg-color);\n",
              "    border: none;\n",
              "    border-radius: 50%;\n",
              "    cursor: pointer;\n",
              "    display: none;\n",
              "    fill: var(--fill-color);\n",
              "    height: 32px;\n",
              "    padding: 0;\n",
              "    width: 32px;\n",
              "  }\n",
              "\n",
              "  .colab-df-quickchart:hover {\n",
              "    background-color: var(--hover-bg-color);\n",
              "    box-shadow: 0 1px 2px rgba(60, 64, 67, 0.3), 0 1px 3px 1px rgba(60, 64, 67, 0.15);\n",
              "    fill: var(--button-hover-fill-color);\n",
              "  }\n",
              "\n",
              "  .colab-df-quickchart-complete:disabled,\n",
              "  .colab-df-quickchart-complete:disabled:hover {\n",
              "    background-color: var(--disabled-bg-color);\n",
              "    fill: var(--disabled-fill-color);\n",
              "    box-shadow: none;\n",
              "  }\n",
              "\n",
              "  .colab-df-spinner {\n",
              "    border: 2px solid var(--fill-color);\n",
              "    border-color: transparent;\n",
              "    border-bottom-color: var(--fill-color);\n",
              "    animation:\n",
              "      spin 1s steps(1) infinite;\n",
              "  }\n",
              "\n",
              "  @keyframes spin {\n",
              "    0% {\n",
              "      border-color: transparent;\n",
              "      border-bottom-color: var(--fill-color);\n",
              "      border-left-color: var(--fill-color);\n",
              "    }\n",
              "    20% {\n",
              "      border-color: transparent;\n",
              "      border-left-color: var(--fill-color);\n",
              "      border-top-color: var(--fill-color);\n",
              "    }\n",
              "    30% {\n",
              "      border-color: transparent;\n",
              "      border-left-color: var(--fill-color);\n",
              "      border-top-color: var(--fill-color);\n",
              "      border-right-color: var(--fill-color);\n",
              "    }\n",
              "    40% {\n",
              "      border-color: transparent;\n",
              "      border-right-color: var(--fill-color);\n",
              "      border-top-color: var(--fill-color);\n",
              "    }\n",
              "    60% {\n",
              "      border-color: transparent;\n",
              "      border-right-color: var(--fill-color);\n",
              "    }\n",
              "    80% {\n",
              "      border-color: transparent;\n",
              "      border-right-color: var(--fill-color);\n",
              "      border-bottom-color: var(--fill-color);\n",
              "    }\n",
              "    90% {\n",
              "      border-color: transparent;\n",
              "      border-bottom-color: var(--fill-color);\n",
              "    }\n",
              "  }\n",
              "</style>\n",
              "\n",
              "      <script>\n",
              "        async function quickchart(key) {\n",
              "          const quickchartButtonEl =\n",
              "            document.querySelector('#' + key + ' button');\n",
              "          quickchartButtonEl.disabled = true;  // To prevent multiple clicks.\n",
              "          quickchartButtonEl.classList.add('colab-df-spinner');\n",
              "          try {\n",
              "            const charts = await google.colab.kernel.invokeFunction(\n",
              "                'suggestCharts', [key], {});\n",
              "          } catch (error) {\n",
              "            console.error('Error during call to suggestCharts:', error);\n",
              "          }\n",
              "          quickchartButtonEl.classList.remove('colab-df-spinner');\n",
              "          quickchartButtonEl.classList.add('colab-df-quickchart-complete');\n",
              "        }\n",
              "        (() => {\n",
              "          let quickchartButtonEl =\n",
              "            document.querySelector('#df-927507e5-a8c3-44ad-ae9f-1c69c56b72da button');\n",
              "          quickchartButtonEl.style.display =\n",
              "            google.colab.kernel.accessAllowed ? 'block' : 'none';\n",
              "        })();\n",
              "      </script>\n",
              "    </div>\n",
              "\n",
              "  <div id=\"id_100c4a58-a909-468f-9284-73e565793640\">\n",
              "    <style>\n",
              "      .colab-df-generate {\n",
              "        background-color: #E8F0FE;\n",
              "        border: none;\n",
              "        border-radius: 50%;\n",
              "        cursor: pointer;\n",
              "        display: none;\n",
              "        fill: #1967D2;\n",
              "        height: 32px;\n",
              "        padding: 0 0 0 0;\n",
              "        width: 32px;\n",
              "      }\n",
              "\n",
              "      .colab-df-generate:hover {\n",
              "        background-color: #E2EBFA;\n",
              "        box-shadow: 0px 1px 2px rgba(60, 64, 67, 0.3), 0px 1px 3px 1px rgba(60, 64, 67, 0.15);\n",
              "        fill: #174EA6;\n",
              "      }\n",
              "\n",
              "      [theme=dark] .colab-df-generate {\n",
              "        background-color: #3B4455;\n",
              "        fill: #D2E3FC;\n",
              "      }\n",
              "\n",
              "      [theme=dark] .colab-df-generate:hover {\n",
              "        background-color: #434B5C;\n",
              "        box-shadow: 0px 1px 3px 1px rgba(0, 0, 0, 0.15);\n",
              "        filter: drop-shadow(0px 1px 2px rgba(0, 0, 0, 0.3));\n",
              "        fill: #FFFFFF;\n",
              "      }\n",
              "    </style>\n",
              "    <button class=\"colab-df-generate\" onclick=\"generateWithVariable('mundial')\"\n",
              "            title=\"Generate code using this dataframe.\"\n",
              "            style=\"display:none;\">\n",
              "\n",
              "  <svg xmlns=\"http://www.w3.org/2000/svg\" height=\"24px\"viewBox=\"0 0 24 24\"\n",
              "       width=\"24px\">\n",
              "    <path d=\"M7,19H8.4L18.45,9,17,7.55,7,17.6ZM5,21V16.75L18.45,3.32a2,2,0,0,1,2.83,0l1.4,1.43a1.91,1.91,0,0,1,.58,1.4,1.91,1.91,0,0,1-.58,1.4L9.25,21ZM18.45,9,17,7.55Zm-12,3A5.31,5.31,0,0,0,4.9,8.1,5.31,5.31,0,0,0,1,6.5,5.31,5.31,0,0,0,4.9,4.9,5.31,5.31,0,0,0,6.5,1,5.31,5.31,0,0,0,8.1,4.9,5.31,5.31,0,0,0,12,6.5,5.46,5.46,0,0,0,6.5,12Z\"/>\n",
              "  </svg>\n",
              "    </button>\n",
              "    <script>\n",
              "      (() => {\n",
              "      const buttonEl =\n",
              "        document.querySelector('#id_100c4a58-a909-468f-9284-73e565793640 button.colab-df-generate');\n",
              "      buttonEl.style.display =\n",
              "        google.colab.kernel.accessAllowed ? 'block' : 'none';\n",
              "\n",
              "      buttonEl.onclick = () => {\n",
              "        google.colab.notebook.generateWithVariable('mundial');\n",
              "      }\n",
              "      })();\n",
              "    </script>\n",
              "  </div>\n",
              "\n",
              "    </div>\n",
              "  </div>\n"
            ],
            "application/vnd.google.colaboratory.intrinsic+json": {
              "type": "dataframe",
              "variable_name": "mundial"
            }
          },
          "metadata": {},
          "execution_count": 3
        }
      ],
      "source": [
        "archivo = \"https://raw.githubusercontent.com/IgnacioPardo/Tecnologias_Exponenciales_2025/refs/heads/main/qatar.csv\"\n",
        "\n",
        "# Leer datos del archivo\n",
        "mundial : pd.DataFrame = pd.read_csv(archivo)\n",
        "mundial"
      ]
    },
    {
      "cell_type": "code",
      "execution_count": 10,
      "metadata": {
        "id": "rrtos-cq9Ga3",
        "outputId": "e65d4c74-2a77-4e85-b874-e796f119283c",
        "colab": {
          "base_uri": "https://localhost:8080/",
          "height": 140
        }
      },
      "outputs": [
        {
          "output_type": "execute_result",
          "data": {
            "text/plain": [
              "'QATARENGLANDSENEGALUNITED STATESARGENTINADENMARKMEXICOFRANCEMOROCCOGERMANYSPAINBELGIUMSWITZERLANDURUGUAYPORTUGALBRAZILWALESQATARNETHERLANDSENGLANDTUNISIAPOLANDFRANCEARGENTINAJAPANBELGIUMCROATIASPAINCAMEROONKOREA REPUBLICBRAZILPORTUGALNETHERLANDSECUADORWALESIRANAUSTRALIATUNISIAPOLANDSAUDI ARABIACROATIACANADAJAPANCOSTA RICAGHANAKOREA REPUBLICSERBIACAMEROONNETHERLANDSARGENTINAFRANCEENGLANDJAPANBRAZILMOROCCOPORTUGALCROATIANETHERLANDSMOROCCOENGLANDARGENTINAFRANCECROATIAARGENTINAECUADORIRANNETHERLANDSWALESSAUDI ARABIATUNISIAPOLANDAUSTRALIACROATIAJAPANCOSTA RICACANADACAMEROONKOREA REPUBLICGHANASERBIAIRANSENEGALECUADORUNITED STATESAUSTRALIASAUDI ARABIADENMARKMEXICOCOSTA RICAMOROCCOCANADAGERMANYSERBIAGHANASWITZERLANDURUGUAYQATARSENEGALENGLANDUNITED STATESDENMARKFRANCEARGENTINAMEXICOBELGIUMMOROCCOSPAINGERMANYURUGUAYPORTUGALSWITZERLANDBRAZILUNITED STATESAUSTRALIAPOLANDSENEGALCROATIAKOREA REPUBLICSPAINSWITZERLANDBRAZILARGENTINAPORTUGALFRANCECROATIAMOROCCOMOROCCOFRANCE'"
            ],
            "application/vnd.google.colaboratory.intrinsic+json": {
              "type": "string"
            }
          },
          "metadata": {},
          "execution_count": 10
        }
      ],
      "source": [
        "# Cuantos partidos se jugaron?\n",
        "# Completar\n",
        "\n",
        "partidosLocal = mundial[\"1\"].sum()\n",
        "partidosVisitante = mundial[\"2\"].sum()\n",
        "\n",
        "partidosTotales = partidosLocal + partidosVisitante\n",
        "\n",
        "partidosTotales"
      ]
    },
    {
      "cell_type": "code",
      "execution_count": null,
      "metadata": {
        "id": "-uR5oIq29Ga4"
      },
      "outputs": [],
      "source": [
        "# Que datos tiene el dataset? (Pista: usar .info(), .describe(), .columns, .head())\n",
        "# Checkear columnas\n",
        "# Completar"
      ]
    },
    {
      "cell_type": "markdown",
      "metadata": {
        "id": "d_7b_nW89Ga4"
      },
      "source": [
        "## Analisis"
      ]
    },
    {
      "cell_type": "markdown",
      "metadata": {
        "id": "Zi5ap0ff9Ga5"
      },
      "source": [
        "### Primera Parte"
      ]
    },
    {
      "cell_type": "code",
      "execution_count": null,
      "metadata": {
        "id": "QI5IiVO_9Ga6"
      },
      "outputs": [],
      "source": [
        "# Cuantas selecciones participaron?\n",
        "# Completar"
      ]
    },
    {
      "cell_type": "code",
      "execution_count": null,
      "metadata": {
        "id": "lKCvJ1JR9Ga7"
      },
      "outputs": [],
      "source": [
        "# Cuantas fases tiene el mundial?\n",
        "# Completar"
      ]
    },
    {
      "cell_type": "code",
      "execution_count": null,
      "metadata": {
        "id": "Y7ACTRQ99Ga8"
      },
      "outputs": [],
      "source": [
        "# Cual fue la \"attendance\" promedio por partido?\n",
        "# Completar"
      ]
    },
    {
      "cell_type": "code",
      "execution_count": null,
      "metadata": {
        "id": "DEIUuqfV9Ga9"
      },
      "outputs": [],
      "source": [
        "# Cual fue el partido con mas diferencia de goles?\n",
        "# Completar"
      ]
    },
    {
      "cell_type": "code",
      "execution_count": null,
      "metadata": {
        "id": "4XN6hdet9Ga9"
      },
      "outputs": [],
      "source": [
        "# Cual es la selección que mas penales metió?\n",
        "# Completar"
      ]
    },
    {
      "cell_type": "code",
      "execution_count": null,
      "metadata": {
        "id": "Clx_Bp_R9Ga-"
      },
      "outputs": [],
      "source": [
        "# Cual es la selección que mas penales le hicieron?\n",
        "# Completar"
      ]
    },
    {
      "cell_type": "markdown",
      "metadata": {
        "id": "i1oyIZRw9Ga_"
      },
      "source": [
        "### Segunda Parte"
      ]
    },
    {
      "cell_type": "code",
      "execution_count": null,
      "metadata": {
        "id": "SglVDpgr9Ga_"
      },
      "outputs": [],
      "source": [
        "equipo : str = \"ARGENTINA\""
      ]
    },
    {
      "cell_type": "code",
      "execution_count": null,
      "metadata": {
        "id": "frDdBUuA9Ga_"
      },
      "outputs": [],
      "source": [
        "# Seleccionar todos los partidos que jugo el equipo de \"local\"\n",
        "# Completar\n",
        "\n",
        "filtroLocal : pd.Series ="
      ]
    },
    {
      "cell_type": "code",
      "execution_count": null,
      "metadata": {
        "id": "8bZCNFkM9GbA"
      },
      "outputs": [],
      "source": [
        "# Seleccionar todos los partidos que jugo el equipo de \"visitante\"\n",
        "# Completar\n",
        "\n",
        "filtroVisitante : pd.Series ="
      ]
    },
    {
      "cell_type": "code",
      "execution_count": null,
      "metadata": {
        "id": "K44_7TFo9GbA"
      },
      "outputs": [],
      "source": [
        "# Seleccionar todos los partidos que jugo el equipo (de \"local\" o \"visitante\")\n",
        "# Completar\n",
        "\n",
        "partidos : pd.DataFrame =\n"
      ]
    },
    {
      "cell_type": "code",
      "execution_count": null,
      "metadata": {
        "id": "pOKdMVu99GbB"
      },
      "outputs": [],
      "source": [
        "# Cuantos goles hizo el equipo en total (obtener los goles metidos de local y sumarlos con los goles metidos de visitante)\n",
        "# Completar\n",
        "\n",
        "goles : int ="
      ]
    },
    {
      "cell_type": "code",
      "execution_count": null,
      "metadata": {
        "id": "nD8Bw2rM9GbB"
      },
      "outputs": [],
      "source": [
        "# Cuantos goles hizo el equipo en promedio\n",
        "# Completar"
      ]
    },
    {
      "cell_type": "code",
      "execution_count": null,
      "metadata": {
        "id": "xbtxh5Vl9GbB"
      },
      "outputs": [],
      "source": [
        "# Cuantos partidos gano el equipo\n",
        "# Completar\n",
        "\n",
        "ganados : int ="
      ]
    },
    {
      "cell_type": "code",
      "execution_count": null,
      "metadata": {
        "id": "Yt1Y6_Wf9GbB"
      },
      "outputs": [],
      "source": [
        "# Graficar los goles hechos por el equipo en cada partido\n",
        "\n",
        "fig, ax = plt.subplots()\n",
        "# Completar"
      ]
    },
    {
      "cell_type": "markdown",
      "metadata": {
        "id": "p3l-lpqE9GbC"
      },
      "source": [
        "### Tercera Parte"
      ]
    },
    {
      "cell_type": "code",
      "execution_count": null,
      "metadata": {
        "id": "PuFIKSRd9GbC"
      },
      "outputs": [],
      "source": [
        "# Contar cuantos goles hizo cada equipo en total en el mundial\n",
        "# Completar\n",
        "\n",
        "golesDeLocal =  mundial.groupby(\"1\")[\"1_goals\"].sum()\n",
        "golesDeVisitante = mundial.groupby(\"2\")[\"2_goals\"].sum()\n",
        "\n",
        "golesTotalesPorEquipo = golesDeLocal | golesDeVisitante"
      ]
    },
    {
      "cell_type": "code",
      "execution_count": 16,
      "metadata": {
        "id": "0cMQI5N_9GbC",
        "outputId": "e8423220-5f79-44b2-ef6d-50273e5118ff",
        "colab": {
          "base_uri": "https://localhost:8080/",
          "height": 462
        }
      },
      "outputs": [
        {
          "output_type": "execute_result",
          "data": {
            "text/plain": [
              "<BarContainer object of 32 artists>"
            ]
          },
          "metadata": {},
          "execution_count": 16
        },
        {
          "output_type": "display_data",
          "data": {
            "text/plain": [
              "<Figure size 1000x500 with 1 Axes>"
            ],
            "image/png": "[encoded data removed]"
          },
          "metadata": {}
        }
      ],
      "source": [
        "# Graficar los goles por equipo en todo el mundial\n",
        "\n",
        "fig, ax = plt.subplots(figsize=[10, 5])\n",
        "# Completar\n",
        "\n",
        "golesDeLocal =  mundial.groupby(\"1\")[\"1_goals\"].sum()\n",
        "golesDeVisitante = mundial.groupby(\"2\")[\"2_goals\"].sum()\n",
        "\n",
        "golesTotalesPorEquipo = golesDeLocal | golesDeVisitante\n",
        "golesTotalesPorEquipo = golesTotalesPorEquipo.sort_values(ascending=False)\n",
        "\n",
        "ax.bar(\n",
        "    golesTotalesPorEquipo.index.str[:2],\n",
        "    golesTotalesPorEquipo.values\n",
        ")"
      ]
    },
    {
      "cell_type": "code",
      "execution_count": 17,
      "metadata": {
        "id": "MVaa_hJV9GbC",
        "outputId": "7927d049-82ee-4b97-ff9e-31604e00992b",
        "colab": {
          "base_uri": "https://localhost:8080/"
        }
      },
      "outputs": [
        {
          "output_type": "stream",
          "name": "stdout",
          "text": [
            "ARGENTINA\n",
            "15\n"
          ]
        }
      ],
      "source": [
        "# Cual es el equipo que hizo mas goles en el mundial?\n",
        "# Completar\n",
        "\n",
        "golesDeLocal =  mundial.groupby(\"1\")[\"1_goals\"].sum()\n",
        "golesDeVisitante = mundial.groupby(\"2\")[\"2_goals\"].sum()\n",
        "\n",
        "golesTotalesPorEquipo = golesDeLocal | golesDeVisitante\n",
        "golesTotalesPorEquipo = golesTotalesPorEquipo.sort_values(ascending=False)\n",
        "print(golesTotalesPorEquipo.index[0])\n",
        "print(golesTotalesPorEquipo.values[0])\n"
      ]
    },
    {
      "cell_type": "code",
      "execution_count": 18,
      "metadata": {
        "id": "p9_6jDFj9GbD",
        "outputId": "e4a40372-a33f-4c16-a42c-158caac847c9",
        "colab": {
          "base_uri": "https://localhost:8080/",
          "height": 339
        }
      },
      "outputs": [
        {
          "output_type": "error",
          "ename": "KeyError",
          "evalue": "\"None of [Index(['match_no, diferenciaDeGoles'], dtype='object')] are in the [columns]\"",
          "traceback": [
            "\u001b[0;31m---------------------------------------------------------------------------\u001b[0m",
            "\u001b[0;31mKeyError\u001b[0m                                  Traceback (most recent call last)",
            "\u001b[0;32m<ipython-input-18-e56173fe5797>\u001b[0m in \u001b[0;36m<cell line: 0>\u001b[0;34m()\u001b[0m\n\u001b[1;32m      2\u001b[0m \u001b[0;31m# Completar\u001b[0m\u001b[0;34m\u001b[0m\u001b[0;34m\u001b[0m\u001b[0m\n\u001b[1;32m      3\u001b[0m \u001b[0mmundial\u001b[0m\u001b[0;34m[\u001b[0m\u001b[0;34m\"diferenciaDeGoles\"\u001b[0m\u001b[0;34m]\u001b[0m \u001b[0;34m=\u001b[0m \u001b[0mabs\u001b[0m\u001b[0;34m(\u001b[0m\u001b[0mmundial\u001b[0m\u001b[0;34m[\u001b[0m\u001b[0;34m\"1_goals\"\u001b[0m\u001b[0;34m]\u001b[0m \u001b[0;34m-\u001b[0m \u001b[0mmundial\u001b[0m\u001b[0;34m[\u001b[0m\u001b[0;34m\"2_goals\"\u001b[0m\u001b[0;34m]\u001b[0m\u001b[0;34m)\u001b[0m\u001b[0;34m\u001b[0m\u001b[0;34m\u001b[0m\u001b[0m\n\u001b[0;32m----> 4\u001b[0;31m \u001b[0mdiferenciaPorPartido\u001b[0m \u001b[0;34m=\u001b[0m \u001b[0mmundial\u001b[0m\u001b[0;34m[\u001b[0m\u001b[0;34m[\u001b[0m\u001b[0;34m\"match_no, diferenciaDeGoles\"\u001b[0m\u001b[0;34m]\u001b[0m\u001b[0;34m]\u001b[0m\u001b[0;34m\u001b[0m\u001b[0;34m\u001b[0m\u001b[0m\n\u001b[0m\u001b[1;32m      5\u001b[0m \u001b[0mdiferenciaPorPartido\u001b[0m\u001b[0;34m\u001b[0m\u001b[0;34m\u001b[0m\u001b[0m\n",
            "\u001b[0;32m/usr/local/lib/python3.11/dist-packages/pandas/core/frame.py\u001b[0m in \u001b[0;36m__getitem__\u001b[0;34m(self, key)\u001b[0m\n\u001b[1;32m   4106\u001b[0m             \u001b[0;32mif\u001b[0m \u001b[0mis_iterator\u001b[0m\u001b[0;34m(\u001b[0m\u001b[0mkey\u001b[0m\u001b[0;34m)\u001b[0m\u001b[0;34m:\u001b[0m\u001b[0;34m\u001b[0m\u001b[0;34m\u001b[0m\u001b[0m\n\u001b[1;32m   4107\u001b[0m                 \u001b[0mkey\u001b[0m \u001b[0;34m=\u001b[0m \u001b[0mlist\u001b[0m\u001b[0;34m(\u001b[0m\u001b[0mkey\u001b[0m\u001b[0;34m)\u001b[0m\u001b[0;34m\u001b[0m\u001b[0;34m\u001b[0m\u001b[0m\n\u001b[0;32m-> 4108\u001b[0;31m             \u001b[0mindexer\u001b[0m \u001b[0;34m=\u001b[0m \u001b[0mself\u001b[0m\u001b[0;34m.\u001b[0m\u001b[0mcolumns\u001b[0m\u001b[0;34m.\u001b[0m\u001b[0m_get_indexer_strict\u001b[0m\u001b[0;34m(\u001b[0m\u001b[0mkey\u001b[0m\u001b[0;34m,\u001b[0m \u001b[0;34m\"columns\"\u001b[0m\u001b[0;34m)\u001b[0m\u001b[0;34m[\u001b[0m\u001b[0;36m1\u001b[0m\u001b[0;34m]\u001b[0m\u001b[0;34m\u001b[0m\u001b[0;34m\u001b[0m\u001b[0m\n\u001b[0m\u001b[1;32m   4109\u001b[0m \u001b[0;34m\u001b[0m\u001b[0m\n\u001b[1;32m   4110\u001b[0m         \u001b[0;31m# take() does not accept boolean indexers\u001b[0m\u001b[0;34m\u001b[0m\u001b[0;34m\u001b[0m\u001b[0m\n",
            "\u001b[0;32m/usr/local/lib/python3.11/dist-packages/pandas/core/indexes/base.py\u001b[0m in \u001b[0;36m_get_indexer_strict\u001b[0;34m(self, key, axis_name)\u001b[0m\n\u001b[1;32m   6198\u001b[0m             \u001b[0mkeyarr\u001b[0m\u001b[0;34m,\u001b[0m \u001b[0mindexer\u001b[0m\u001b[0;34m,\u001b[0m \u001b[0mnew_indexer\u001b[0m \u001b[0;34m=\u001b[0m \u001b[0mself\u001b[0m\u001b[0;34m.\u001b[0m\u001b[0m_reindex_non_unique\u001b[0m\u001b[0;34m(\u001b[0m\u001b[0mkeyarr\u001b[0m\u001b[0;34m)\u001b[0m\u001b[0;34m\u001b[0m\u001b[0;34m\u001b[0m\u001b[0m\n\u001b[1;32m   6199\u001b[0m \u001b[0;34m\u001b[0m\u001b[0m\n\u001b[0;32m-> 6200\u001b[0;31m         \u001b[0mself\u001b[0m\u001b[0;34m.\u001b[0m\u001b[0m_raise_if_missing\u001b[0m\u001b[0;34m(\u001b[0m\u001b[0mkeyarr\u001b[0m\u001b[0;34m,\u001b[0m \u001b[0mindexer\u001b[0m\u001b[0;34m,\u001b[0m \u001b[0maxis_name\u001b[0m\u001b[0;34m)\u001b[0m\u001b[0;34m\u001b[0m\u001b[0;34m\u001b[0m\u001b[0m\n\u001b[0m\u001b[1;32m   6201\u001b[0m \u001b[0;34m\u001b[0m\u001b[0m\n\u001b[1;32m   6202\u001b[0m         \u001b[0mkeyarr\u001b[0m \u001b[0;34m=\u001b[0m \u001b[0mself\u001b[0m\u001b[0;34m.\u001b[0m\u001b[0mtake\u001b[0m\u001b[0;34m(\u001b[0m\u001b[0mindexer\u001b[0m\u001b[0;34m)\u001b[0m\u001b[0;34m\u001b[0m\u001b[0;34m\u001b[0m\u001b[0m\n",
            "\u001b[0;32m/usr/local/lib/python3.11/dist-packages/pandas/core/indexes/base.py\u001b[0m in \u001b[0;36m_raise_if_missing\u001b[0;34m(self, key, indexer, axis_name)\u001b[0m\n\u001b[1;32m   6247\u001b[0m         \u001b[0;32mif\u001b[0m \u001b[0mnmissing\u001b[0m\u001b[0;34m:\u001b[0m\u001b[0;34m\u001b[0m\u001b[0;34m\u001b[0m\u001b[0m\n\u001b[1;32m   6248\u001b[0m             \u001b[0;32mif\u001b[0m \u001b[0mnmissing\u001b[0m \u001b[0;34m==\u001b[0m \u001b[0mlen\u001b[0m\u001b[0;34m(\u001b[0m\u001b[0mindexer\u001b[0m\u001b[0;34m)\u001b[0m\u001b[0;34m:\u001b[0m\u001b[0;34m\u001b[0m\u001b[0;34m\u001b[0m\u001b[0m\n\u001b[0;32m-> 6249\u001b[0;31m                 \u001b[0;32mraise\u001b[0m \u001b[0mKeyError\u001b[0m\u001b[0;34m(\u001b[0m\u001b[0;34mf\"None of [{key}] are in the [{axis_name}]\"\u001b[0m\u001b[0;34m)\u001b[0m\u001b[0;34m\u001b[0m\u001b[0;34m\u001b[0m\u001b[0m\n\u001b[0m\u001b[1;32m   6250\u001b[0m \u001b[0;34m\u001b[0m\u001b[0m\n\u001b[1;32m   6251\u001b[0m             \u001b[0mnot_found\u001b[0m \u001b[0;34m=\u001b[0m \u001b[0mlist\u001b[0m\u001b[0;34m(\u001b[0m\u001b[0mensure_index\u001b[0m\u001b[0;34m(\u001b[0m\u001b[0mkey\u001b[0m\u001b[0;34m)\u001b[0m\u001b[0;34m[\u001b[0m\u001b[0mmissing_mask\u001b[0m\u001b[0;34m.\u001b[0m\u001b[0mnonzero\u001b[0m\u001b[0;34m(\u001b[0m\u001b[0;34m)\u001b[0m\u001b[0;34m[\u001b[0m\u001b[0;36m0\u001b[0m\u001b[0;34m]\u001b[0m\u001b[0;34m]\u001b[0m\u001b[0;34m.\u001b[0m\u001b[0munique\u001b[0m\u001b[0;34m(\u001b[0m\u001b[0;34m)\u001b[0m\u001b[0;34m)\u001b[0m\u001b[0;34m\u001b[0m\u001b[0;34m\u001b[0m\u001b[0m\n",
            "\u001b[0;31mKeyError\u001b[0m: \"None of [Index(['match_no, diferenciaDeGoles'], dtype='object')] are in the [columns]\""
          ]
        }
      ],
      "source": [
        "# Por cada partido, cual fue la diferencia de goles?\n",
        "# Completar\n",
        "mundial[\"diferenciaDeGoles\"] = abs(mundial[\"1_goals\"] - mundial[\"2_goals\"])\n",
        "diferenciaPorPartido = mundial[[\"match_no, diferenciaDeGoles\"]]\n",
        "diferenciaPorPartido\n"
      ]
    },
    {
      "cell_type": "code",
      "execution_count": null,
      "metadata": {
        "id": "M7sPuTKa9GbD"
      },
      "outputs": [],
      "source": [
        "# Por cada partido, cual fue el equipo que gano?\n",
        "# Completar"
      ]
    },
    {
      "cell_type": "code",
      "execution_count": null,
      "metadata": {
        "id": "fmAJEsol9GbE"
      },
      "outputs": [],
      "source": [
        "# En cada fase del mundial, cual fue el equipo que hizo mas goles?\n",
        "# Completar"
      ]
    },
    {
      "cell_type": "markdown",
      "metadata": {
        "id": "9p_rXaXB9GbE"
      },
      "source": [
        "### Tercera Parte"
      ]
    },
    {
      "cell_type": "code",
      "execution_count": null,
      "metadata": {
        "id": "wliJP8579GbF"
      },
      "outputs": [],
      "source": [
        "# Armar un gráfico a partir de algun nuevo análisis que se te ocurra\n",
        "# Completar"
      ]
    }
  ],
  "metadata": {
    "kernelspec": {
      "display_name": "coding",
      "language": "python",
      "name": "python3"
    },
    "language_info": {
      "codemirror_mode": {
        "name": "ipython",
        "version": 3
      },
      "file_extension": ".py",
      "mimetype": "text/x-python",
      "name": "python",
      "nbconvert_exporter": "python",
      "pygments_lexer": "ipython3",
      "version": "3.8.12"
    },
    "colab": {
      "provenance": []
    }
  },
  "nbformat": 4,
  "nbformat_minor": 0
}